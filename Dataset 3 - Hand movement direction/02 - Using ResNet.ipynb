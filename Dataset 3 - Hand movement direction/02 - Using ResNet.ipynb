{
 "cells": [
  {
   "cell_type": "markdown",
   "metadata": {},
   "source": [
    "# Residual Network"
   ]
  },
  {
   "cell_type": "markdown",
   "metadata": {},
   "source": [
    "Residual Networks are pretty simple actually. Sounds complex but its really not all that special, except in the results they produce. \n",
    "\n",
    "- Think of a normal network where you have 5 layers, A to E. \n",
    "- In a residual network, the only difference is that output of A not only goes into B, but also goes into layer C. This is called a **Skip Connection.**\n",
    "- People who've done Control Systems can think of it as a feedforward loop. Funnily enough, it has a similar functionality of optimizing.\n",
    "- A skip connection can also have additional layers before being added into the *'forward'* path.\n",
    "- Here's a simplified diagram.\n",
    "\n",
    "![image](img/resnet.png)"
   ]
  },
  {
   "cell_type": "markdown",
   "metadata": {},
   "source": [
    "### But Why ResNets?\n",
    "\n",
    "The idea behind ResNets is pretty much, \"Hey, it doesn't hurt. So why not?\" <br>\n",
    "Surprisingly, this ended up being pretty big because it *helped* a lot more than it hurt.\n",
    "\n",
    "- Residual Networks have a unique propert of being able to **\"learn\" the Identity Function**\n",
    "- In layman terms, considering the worst case scenario, a residual connection will give you an output that's exactly the same as the input. i.e <br>**Input x Residual Network = Input**      <br>\n",
    "(Identity Function I follows *A x I = A*)\n",
    "- So these extra layers don't affect training error negatively, it doesn't \"hurt\" and this is in the absolute worst cases. At most, it just increases time and computational cost.\n",
    "- In the best cases however, each layer learns something based on past and current inputs, and has the advantage of not digressing down a path that leads to very high error. \n",
    "- Normal Networks (with no skipped connections) find it harder and harder to choose and learn correctly the deeper the network gets. Simply put, more layers of a normal network leads to higher chances of error\n",
    "- However, since a Residual Network continuously checks and adds the past input, the training error doesn't ever grow exponentially!"
   ]
  },
  {
   "cell_type": "markdown",
   "metadata": {},
   "source": [
    "So,  let's do this!"
   ]
  },
  {
   "cell_type": "markdown",
   "metadata": {},
   "source": [
    "\n",
    "_______\n",
    "## Imports and Preprocessing"
   ]
  },
  {
   "cell_type": "code",
   "execution_count": 3,
   "metadata": {},
   "outputs": [],
   "source": [
    "from DataPreprocess import bandwise_split\n",
    "import matplotlib.pyplot as plt"
   ]
  },
  {
   "cell_type": "markdown",
   "metadata": {},
   "source": [
    "DataPreProcess is the file with all the preprocessing and splitting into frequency bands from the previous notebook. "
   ]
  },
  {
   "cell_type": "code",
   "execution_count": 4,
   "metadata": {},
   "outputs": [],
   "source": [
    "file1 = r'C:\\Users\\Aditi\\Documents\\Machine Learning\\BCI Dataset\\BCICIV_3_mat\\S1.mat'\n",
    "file2 = r'C:\\Users\\Aditi\\Documents\\Machine Learning\\BCI Dataset\\BCICIV_3_mat\\S2.mat'"
   ]
  },
  {
   "cell_type": "code",
   "execution_count": 13,
   "metadata": {},
   "outputs": [
    {
     "name": "stdout",
     "output_type": "stream",
     "text": [
      "x shape - True\n",
      "y sum - True\n"
     ]
    }
   ],
   "source": [
    "X_train, X_test, Y_train, Y_test = bandwise_split(file2, split = True, train_size=0.8) "
   ]
  },
  {
   "cell_type": "code",
   "execution_count": 14,
   "metadata": {},
   "outputs": [
    {
     "name": "stdout",
     "output_type": "stream",
     "text": [
      "# samples, time, channels\n",
      "(1280, 400, 5)\n",
      "(1280, 4)\n",
      "(320, 400, 5)\n",
      "(320, 4)\n"
     ]
    }
   ],
   "source": [
    "print(\"# samples, time, channels\")\n",
    "print(X_train.shape)\n",
    "print(Y_train.shape)\n",
    "print(X_test.shape)\n",
    "print(Y_test.shape)"
   ]
  },
  {
   "cell_type": "markdown",
   "metadata": {},
   "source": [
    "______\n",
    "So we have our data ready, time to make our model.\n"
   ]
  },
  {
   "cell_type": "code",
   "execution_count": 1,
   "metadata": {},
   "outputs": [
    {
     "name": "stderr",
     "output_type": "stream",
     "text": [
      "c:\\users\\aditi\\appdata\\local\\continuum\\anaconda3\\lib\\site-packages\\h5py\\__init__.py:72: UserWarning: h5py is running against HDF5 1.10.2 when it was built against 1.10.3, this may cause problems\n",
      "  '{0}.{1}.{2}'.format(*version.hdf5_built_version_tuple)\n",
      "Using TensorFlow backend.\n"
     ]
    }
   ],
   "source": [
    "from keras.layers import (Input, Conv1D, MaxPooling1D, Dropout,\n",
    "                          BatchNormalization, Activation, Add,\n",
    "                          Flatten, Dense)\n",
    "from keras.models import Model, load_model\n",
    "import numpy as np\n",
    "import tensorflow as tf\n",
    "from keras.optimizers import Adam\n",
    "from keras.callbacks import (ModelCheckpoint,\n",
    "                             TensorBoard, ReduceLROnPlateau,\n",
    "                             CSVLogger, EarlyStopping)\n",
    "from keras.backend.tensorflow_backend import set_session\n",
    "from ResNet import ResidualUnit"
   ]
  },
  {
   "cell_type": "markdown",
   "metadata": {},
   "source": [
    "The Residual unit codes are from [here](https://github.com/antonior92/automatic-ecg-diagnosis) who made an Automatic ECG analyser. They used a convolutional neural network even though its not an image, and it brought very good results. So I tried the same with this EEG dataset, and yepp, definitely gave good results.<br>\n",
    "After a spectacular failed trial with RNNs, I found this usage of a residual network, and it proved fruitful!"
   ]
  },
  {
   "cell_type": "code",
   "execution_count": 9,
   "metadata": {
    "collapsed": true,
    "jupyter": {
     "outputs_hidden": true
    }
   },
   "outputs": [
    {
     "name": "stdout",
     "output_type": "stream",
     "text": [
      "WARNING:tensorflow:From c:\\users\\aditi\\appdata\\local\\continuum\\anaconda3\\lib\\site-packages\\keras\\backend\\tensorflow_backend.py:517: The name tf.placeholder is deprecated. Please use tf.compat.v1.placeholder instead.\n",
      "\n",
      "WARNING:tensorflow:From c:\\users\\aditi\\appdata\\local\\continuum\\anaconda3\\lib\\site-packages\\keras\\backend\\tensorflow_backend.py:74: The name tf.get_default_graph is deprecated. Please use tf.compat.v1.get_default_graph instead.\n",
      "\n",
      "WARNING:tensorflow:From c:\\users\\aditi\\appdata\\local\\continuum\\anaconda3\\lib\\site-packages\\keras\\backend\\tensorflow_backend.py:4185: The name tf.truncated_normal is deprecated. Please use tf.random.truncated_normal instead.\n",
      "\n",
      "WARNING:tensorflow:From c:\\users\\aditi\\appdata\\local\\continuum\\anaconda3\\lib\\site-packages\\keras\\backend\\tensorflow_backend.py:133: The name tf.placeholder_with_default is deprecated. Please use tf.compat.v1.placeholder_with_default instead.\n",
      "\n",
      "WARNING:tensorflow:From c:\\users\\aditi\\appdata\\local\\continuum\\anaconda3\\lib\\site-packages\\keras\\backend\\tensorflow_backend.py:3976: The name tf.nn.max_pool is deprecated. Please use tf.nn.max_pool2d instead.\n",
      "\n",
      "WARNING:tensorflow:From c:\\users\\aditi\\appdata\\local\\continuum\\anaconda3\\lib\\site-packages\\keras\\backend\\tensorflow_backend.py:3445: calling dropout (from tensorflow.python.ops.nn_ops) with keep_prob is deprecated and will be removed in a future version.\n",
      "Instructions for updating:\n",
      "Please use `rate` instead of `keep_prob`. Rate should be set to `rate = 1 - keep_prob`.\n",
      "WARNING:tensorflow:Large dropout rate: 0.8 (>0.5). In TensorFlow 2.x, dropout() uses dropout rate instead of keep_prob. Please ensure that this is intended.\n",
      "WARNING:tensorflow:Large dropout rate: 0.8 (>0.5). In TensorFlow 2.x, dropout() uses dropout rate instead of keep_prob. Please ensure that this is intended.\n",
      "WARNING:tensorflow:Large dropout rate: 0.8 (>0.5). In TensorFlow 2.x, dropout() uses dropout rate instead of keep_prob. Please ensure that this is intended.\n",
      "WARNING:tensorflow:Large dropout rate: 0.8 (>0.5). In TensorFlow 2.x, dropout() uses dropout rate instead of keep_prob. Please ensure that this is intended.\n",
      "WARNING:tensorflow:Large dropout rate: 0.8 (>0.5). In TensorFlow 2.x, dropout() uses dropout rate instead of keep_prob. Please ensure that this is intended.\n"
     ]
    }
   ],
   "source": [
    "kernel_size = 8\n",
    "kernel_initializer = 'he_normal'\n",
    "signal = Input(shape=(400, 5), dtype=np.float32, name='signal')\n",
    "\n",
    "x = signal\n",
    "x = Conv1D(32, kernel_size, padding='same', use_bias=False,\n",
    "           kernel_initializer=kernel_initializer)(x)\n",
    "x = BatchNormalization()(x)\n",
    "x = Activation('relu')(x)\n",
    "x, y = ResidualUnit(200, 64, kernel_size=kernel_size,\n",
    "                    kernel_initializer=kernel_initializer)([x, x])\n",
    "x, y = ResidualUnit(100, 128, kernel_size=kernel_size,\n",
    "                    kernel_initializer=kernel_initializer)([x, y])\n",
    "x, y = ResidualUnit(50, 256, kernel_size=kernel_size,\n",
    "                    kernel_initializer=kernel_initializer)([x, y])\n",
    "x, y = ResidualUnit(25, 512, kernel_size=kernel_size,\n",
    "                    kernel_initializer=kernel_initializer)([x, y])\n",
    "x, _ = ResidualUnit(12, 512, kernel_size=5,\n",
    "                    kernel_initializer=kernel_initializer)([x, y])\n",
    "\n",
    "x = Flatten()(x)\n",
    "diagn = Dense(4, activation='sigmoid', kernel_initializer=kernel_initializer)(x)\n",
    "model = Model(signal, diagn)\n"
   ]
  },
  {
   "cell_type": "markdown",
   "metadata": {},
   "source": [
    "## The Network Architecture\n",
    "So here we have 5 Residual Blocks. <br>Each Residual Block has 2 Conv layers in the forward path and ne mini Conv layer in the skipped connection path. Add the Batch Norm and Pooling layers and you have well, a lot of layers. <br>\n",
    "\n",
    "At the end of every Convolutional Net, there's always a Dense layer, or a fully connected layer. This is the actual \"classifier layer\" that will calculate which class the input belongs too. <br>(Maybe I should add another Dense layer? )\n",
    "____\n",
    "\n",
    "This is what the architecture of one Residual Block looks like (the dimensions correspond to the first block)\n",
    "![image](img/resblock.png)"
   ]
  },
  {
   "cell_type": "markdown",
   "metadata": {},
   "source": [
    "Note: **Batch Normalization (BN) - what is it?** <br>\n",
    "- In general, the convention for preprocessing one's input data is to normalize the data right?\n",
    "- You try to make sure all the features lie in the same range so that no one feature gets priority becuase the original values are simply higher.\n",
    "- That's what Batch Norm layers do as well, but for *the Neural Network co-efficients.*\n",
    "- These layers make sure that none of the weights that you are optimizing gets too large or too small , and for this, you normalize the inputs to the layers routinely throughout your network.\n",
    "____"
   ]
  },
  {
   "cell_type": "markdown",
   "metadata": {},
   "source": [
    "Note2: **Pooling, why?**\n",
    "\n",
    "The \"Max-Pooling Layer\" is simple a maximum kernel (for all you Image Processing people, this will sound familiar) \n",
    "It takes the max of every n-neighbour cells along the horizontal and vertical axes throughout the picture. \n",
    "- Pooling layers have one functionality - **highlight the most important features.**\n",
    "- You reduce the parameters after each convolution, and you choose the reduced parameters such that only the \"best\" or \"most important\" ones remain. Hence, the max function.\n",
    "- I've heard average pooling is done too, but Max-pooling has worked efficiently in numerous networks before, so it has an empirical basis for being the best choice"
   ]
  },
  {
   "cell_type": "code",
   "execution_count": 10,
   "metadata": {
    "collapsed": true,
    "jupyter": {
     "outputs_hidden": true
    }
   },
   "outputs": [
    {
     "name": "stdout",
     "output_type": "stream",
     "text": [
      "__________________________________________________________________________________________________\n",
      "Layer (type)                    Output Shape         Param #     Connected to                     \n",
      "==================================================================================================\n",
      "signal (InputLayer)             (None, 400, 5)       0                                            \n",
      "__________________________________________________________________________________________________\n",
      "conv1d_1 (Conv1D)               (None, 400, 32)      1280        signal[0][0]                     \n",
      "__________________________________________________________________________________________________\n",
      "batch_normalization_1 (BatchNor (None, 400, 32)      128         conv1d_1[0][0]                   \n",
      "__________________________________________________________________________________________________\n",
      "activation_1 (Activation)       (None, 400, 32)      0           batch_normalization_1[0][0]      \n",
      "__________________________________________________________________________________________________\n",
      "conv1d_3 (Conv1D)               (None, 400, 64)      16384       activation_1[0][0]               \n",
      "__________________________________________________________________________________________________\n",
      "batch_normalization_2 (BatchNor (None, 400, 64)      256         conv1d_3[0][0]                   \n",
      "__________________________________________________________________________________________________\n",
      "activation_2 (Activation)       (None, 400, 64)      0           batch_normalization_2[0][0]      \n",
      "__________________________________________________________________________________________________\n",
      "dropout_1 (Dropout)             (None, 400, 64)      0           activation_2[0][0]               \n",
      "__________________________________________________________________________________________________\n",
      "max_pooling1d_1 (MaxPooling1D)  (None, 200, 32)      0           activation_1[0][0]               \n",
      "__________________________________________________________________________________________________\n",
      "conv1d_4 (Conv1D)               (None, 200, 64)      32768       dropout_1[0][0]                  \n",
      "__________________________________________________________________________________________________\n",
      "conv1d_2 (Conv1D)               (None, 200, 64)      2048        max_pooling1d_1[0][0]            \n",
      "__________________________________________________________________________________________________\n",
      "add_1 (Add)                     (None, 200, 64)      0           conv1d_4[0][0]                   \n",
      "                                                                 conv1d_2[0][0]                   \n",
      "__________________________________________________________________________________________________\n",
      "batch_normalization_3 (BatchNor (None, 200, 64)      256         add_1[0][0]                      \n",
      "__________________________________________________________________________________________________\n",
      "activation_3 (Activation)       (None, 200, 64)      0           batch_normalization_3[0][0]      \n",
      "__________________________________________________________________________________________________\n",
      "dropout_2 (Dropout)             (None, 200, 64)      0           activation_3[0][0]               \n",
      "__________________________________________________________________________________________________\n",
      "conv1d_6 (Conv1D)               (None, 200, 128)     65536       dropout_2[0][0]                  \n",
      "__________________________________________________________________________________________________\n",
      "batch_normalization_4 (BatchNor (None, 200, 128)     512         conv1d_6[0][0]                   \n",
      "__________________________________________________________________________________________________\n",
      "activation_4 (Activation)       (None, 200, 128)     0           batch_normalization_4[0][0]      \n",
      "__________________________________________________________________________________________________\n",
      "dropout_3 (Dropout)             (None, 200, 128)     0           activation_4[0][0]               \n",
      "__________________________________________________________________________________________________\n",
      "max_pooling1d_2 (MaxPooling1D)  (None, 100, 64)      0           add_1[0][0]                      \n",
      "__________________________________________________________________________________________________\n",
      "conv1d_7 (Conv1D)               (None, 100, 128)     131072      dropout_3[0][0]                  \n",
      "__________________________________________________________________________________________________\n",
      "conv1d_5 (Conv1D)               (None, 100, 128)     8192        max_pooling1d_2[0][0]            \n",
      "__________________________________________________________________________________________________\n",
      "add_2 (Add)                     (None, 100, 128)     0           conv1d_7[0][0]                   \n",
      "                                                                 conv1d_5[0][0]                   \n",
      "__________________________________________________________________________________________________\n",
      "batch_normalization_5 (BatchNor (None, 100, 128)     512         add_2[0][0]                      \n",
      "__________________________________________________________________________________________________\n",
      "activation_5 (Activation)       (None, 100, 128)     0           batch_normalization_5[0][0]      \n",
      "__________________________________________________________________________________________________\n",
      "dropout_4 (Dropout)             (None, 100, 128)     0           activation_5[0][0]               \n",
      "__________________________________________________________________________________________________\n",
      "conv1d_9 (Conv1D)               (None, 100, 256)     262144      dropout_4[0][0]                  \n",
      "__________________________________________________________________________________________________\n",
      "batch_normalization_6 (BatchNor (None, 100, 256)     1024        conv1d_9[0][0]                   \n",
      "__________________________________________________________________________________________________\n",
      "activation_6 (Activation)       (None, 100, 256)     0           batch_normalization_6[0][0]      \n",
      "__________________________________________________________________________________________________\n",
      "dropout_5 (Dropout)             (None, 100, 256)     0           activation_6[0][0]               \n",
      "__________________________________________________________________________________________________\n",
      "max_pooling1d_3 (MaxPooling1D)  (None, 50, 128)      0           add_2[0][0]                      \n",
      "__________________________________________________________________________________________________\n",
      "conv1d_10 (Conv1D)              (None, 50, 256)      524288      dropout_5[0][0]                  \n",
      "__________________________________________________________________________________________________\n",
      "conv1d_8 (Conv1D)               (None, 50, 256)      32768       max_pooling1d_3[0][0]            \n",
      "__________________________________________________________________________________________________\n",
      "add_3 (Add)                     (None, 50, 256)      0           conv1d_10[0][0]                  \n",
      "                                                                 conv1d_8[0][0]                   \n",
      "__________________________________________________________________________________________________\n",
      "batch_normalization_7 (BatchNor (None, 50, 256)      1024        add_3[0][0]                      \n",
      "__________________________________________________________________________________________________\n",
      "activation_7 (Activation)       (None, 50, 256)      0           batch_normalization_7[0][0]      \n",
      "__________________________________________________________________________________________________\n",
      "dropout_6 (Dropout)             (None, 50, 256)      0           activation_7[0][0]               \n",
      "__________________________________________________________________________________________________\n",
      "conv1d_12 (Conv1D)              (None, 50, 512)      1048576     dropout_6[0][0]                  \n",
      "__________________________________________________________________________________________________\n",
      "batch_normalization_8 (BatchNor (None, 50, 512)      2048        conv1d_12[0][0]                  \n",
      "__________________________________________________________________________________________________\n",
      "activation_8 (Activation)       (None, 50, 512)      0           batch_normalization_8[0][0]      \n",
      "__________________________________________________________________________________________________\n",
      "dropout_7 (Dropout)             (None, 50, 512)      0           activation_8[0][0]               \n",
      "__________________________________________________________________________________________________\n",
      "max_pooling1d_4 (MaxPooling1D)  (None, 25, 256)      0           add_3[0][0]                      \n",
      "__________________________________________________________________________________________________\n",
      "conv1d_13 (Conv1D)              (None, 25, 512)      2097152     dropout_7[0][0]                  \n",
      "__________________________________________________________________________________________________\n",
      "conv1d_11 (Conv1D)              (None, 25, 512)      131072      max_pooling1d_4[0][0]            \n",
      "__________________________________________________________________________________________________\n",
      "add_4 (Add)                     (None, 25, 512)      0           conv1d_13[0][0]                  \n",
      "                                                                 conv1d_11[0][0]                  \n",
      "__________________________________________________________________________________________________\n",
      "batch_normalization_9 (BatchNor (None, 25, 512)      2048        add_4[0][0]                      \n",
      "__________________________________________________________________________________________________\n",
      "activation_9 (Activation)       (None, 25, 512)      0           batch_normalization_9[0][0]      \n",
      "__________________________________________________________________________________________________\n",
      "dropout_8 (Dropout)             (None, 25, 512)      0           activation_9[0][0]               \n",
      "__________________________________________________________________________________________________\n",
      "conv1d_14 (Conv1D)              (None, 25, 512)      1310720     dropout_8[0][0]                  \n",
      "__________________________________________________________________________________________________\n",
      "batch_normalization_10 (BatchNo (None, 25, 512)      2048        conv1d_14[0][0]                  \n",
      "__________________________________________________________________________________________________\n",
      "activation_10 (Activation)      (None, 25, 512)      0           batch_normalization_10[0][0]     \n",
      "__________________________________________________________________________________________________\n",
      "dropout_9 (Dropout)             (None, 25, 512)      0           activation_10[0][0]              \n",
      "__________________________________________________________________________________________________\n",
      "conv1d_15 (Conv1D)              (None, 13, 512)      1310720     dropout_9[0][0]                  \n",
      "__________________________________________________________________________________________________\n",
      "max_pooling1d_5 (MaxPooling1D)  (None, 13, 512)      0           add_4[0][0]                      \n",
      "__________________________________________________________________________________________________\n",
      "add_5 (Add)                     (None, 13, 512)      0           conv1d_15[0][0]                  \n",
      "                                                                 max_pooling1d_5[0][0]            \n",
      "__________________________________________________________________________________________________\n",
      "batch_normalization_11 (BatchNo (None, 13, 512)      2048        add_5[0][0]                      \n",
      "__________________________________________________________________________________________________\n",
      "activation_11 (Activation)      (None, 13, 512)      0           batch_normalization_11[0][0]     \n",
      "__________________________________________________________________________________________________\n",
      "dropout_10 (Dropout)            (None, 13, 512)      0           activation_11[0][0]              \n",
      "__________________________________________________________________________________________________\n",
      "flatten_1 (Flatten)             (None, 6656)         0           dropout_10[0][0]                 \n",
      "__________________________________________________________________________________________________\n",
      "dense_1 (Dense)                 (None, 4)            26628       flatten_1[0][0]                  \n",
      "==================================================================================================\n",
      "Total params: 7,013,252\n",
      "Trainable params: 7,007,300\n",
      "Non-trainable params: 5,952\n",
      "__________________________________________________________________________________________________\n"
     ]
    }
   ],
   "source": [
    "model.summary()"
   ]
  },
  {
   "cell_type": "code",
   "execution_count": 11,
   "metadata": {
    "collapsed": true,
    "jupyter": {
     "outputs_hidden": true
    }
   },
   "outputs": [
    {
     "name": "stdout",
     "output_type": "stream",
     "text": [
      "WARNING:tensorflow:From c:\\users\\aditi\\appdata\\local\\continuum\\anaconda3\\lib\\site-packages\\keras\\optimizers.py:790: The name tf.train.Optimizer is deprecated. Please use tf.compat.v1.train.Optimizer instead.\n",
      "\n",
      "WARNING:tensorflow:From c:\\users\\aditi\\appdata\\local\\continuum\\anaconda3\\lib\\site-packages\\keras\\backend\\tensorflow_backend.py:3376: The name tf.log is deprecated. Please use tf.math.log instead.\n",
      "\n",
      "WARNING:tensorflow:From c:\\users\\aditi\\appdata\\local\\continuum\\anaconda3\\lib\\site-packages\\tensorflow_core\\python\\ops\\nn_impl.py:183: where (from tensorflow.python.ops.array_ops) is deprecated and will be removed in a future version.\n",
      "Instructions for updating:\n",
      "Use tf.where in 2.0, which has the same broadcast rule as np.where\n"
     ]
    }
   ],
   "source": [
    "loss = 'binary_crossentropy'\n",
    "lr = 0.001\n",
    "batch_size = 64\n",
    "opt = Adam(lr)\n",
    "callbacks = [ReduceLROnPlateau(monitor='val_loss',\n",
    "                               factor=0.1,\n",
    "                               patience=7,\n",
    "                               min_lr=lr / 10),\n",
    "             EarlyStopping(patience=9, min_delta=0.00001)]\n",
    "\n",
    "config = tf.ConfigProto()\n",
    "config.gpu_options.allow_growth = True\n",
    "set_session(tf.Session(config=config))\n",
    "model.compile(loss=loss, optimizer=opt, metrics=['accuracy'])\n"
   ]
  },
  {
   "cell_type": "markdown",
   "metadata": {},
   "source": [
    "So there are some complicated additions here. <br>\n",
    "- The ReduceLROnPlateau (wow tat's a mouthful) is a function that reduces the learning rate once the validation loss starts to become constant.\n",
    "- This is to ensure that we don't skip the optima with larger Larning rate values that are needed at the start of training.\n",
    "- EarlyStopping is to ensure that we don't skip the optimum and move back up the convex during gradient descent. \n",
    "- In simpler terms, these are to ensure that training error stays minimum and that the optimum value is reached with the best accuracy\n",
    "_________"
   ]
  },
  {
   "cell_type": "code",
   "execution_count": 12,
   "metadata": {},
   "outputs": [],
   "source": [
    "#To create logs\n",
    "callbacks += [TensorBoard(log_dir='./logs', batch_size=batch_size, write_graph=False),\n",
    "              CSVLogger('training.log', append=False)]  # Change append to true if continuing training\n",
    "# Save the BEST and LAST model\n",
    "callbacks += [ModelCheckpoint('./backup_model_last.hdf5'),\n",
    "              ModelCheckpoint('./backup_model_best.hdf5', save_best_only=True)]\n"
   ]
  },
  {
   "cell_type": "markdown",
   "metadata": {},
   "source": [
    "____\n",
    "## Training\n",
    "**Now that we have made our model and added all the required parameters, let's train!** <br> (I know I've put 200 epochs, but it rarely ever completes 200 fully because the optimum value is reached before hand, generally around 57 - 90, but this is just a safeguard)<br> (Also, a lot of tensorflow warnings come up regarding Dropout rate and stuff, just ignore them, don't worry about it)"
   ]
  },
  {
   "cell_type": "code",
   "execution_count": 13,
   "metadata": {
    "collapsed": true,
    "jupyter": {
     "outputs_hidden": true
    }
   },
   "outputs": [
    {
     "name": "stdout",
     "output_type": "stream",
     "text": [
      "WARNING:tensorflow:From c:\\users\\aditi\\appdata\\local\\continuum\\anaconda3\\lib\\site-packages\\keras\\backend\\tensorflow_backend.py:986: The name tf.assign_add is deprecated. Please use tf.compat.v1.assign_add instead.\n",
      "\n",
      "WARNING:tensorflow:From c:\\users\\aditi\\appdata\\local\\continuum\\anaconda3\\lib\\site-packages\\keras\\backend\\tensorflow_backend.py:973: The name tf.assign is deprecated. Please use tf.compat.v1.assign instead.\n",
      "\n",
      "Train on 1216 samples, validate on 64 samples\n",
      "WARNING:tensorflow:From c:\\users\\aditi\\appdata\\local\\continuum\\anaconda3\\lib\\site-packages\\keras\\backend\\tensorflow_backend.py:174: The name tf.get_default_session is deprecated. Please use tf.compat.v1.get_default_session instead.\n",
      "\n",
      "WARNING:tensorflow:From c:\\users\\aditi\\appdata\\local\\continuum\\anaconda3\\lib\\site-packages\\keras\\backend\\tensorflow_backend.py:190: The name tf.global_variables is deprecated. Please use tf.compat.v1.global_variables instead.\n",
      "\n",
      "WARNING:tensorflow:From c:\\users\\aditi\\appdata\\local\\continuum\\anaconda3\\lib\\site-packages\\keras\\backend\\tensorflow_backend.py:199: The name tf.is_variable_initialized is deprecated. Please use tf.compat.v1.is_variable_initialized instead.\n",
      "\n",
      "WARNING:tensorflow:From c:\\users\\aditi\\appdata\\local\\continuum\\anaconda3\\lib\\site-packages\\keras\\backend\\tensorflow_backend.py:206: The name tf.variables_initializer is deprecated. Please use tf.compat.v1.variables_initializer instead.\n",
      "\n",
      "WARNING:tensorflow:From c:\\users\\aditi\\appdata\\local\\continuum\\anaconda3\\lib\\site-packages\\keras\\callbacks.py:850: The name tf.summary.merge_all is deprecated. Please use tf.compat.v1.summary.merge_all instead.\n",
      "\n",
      "WARNING:tensorflow:From c:\\users\\aditi\\appdata\\local\\continuum\\anaconda3\\lib\\site-packages\\keras\\callbacks.py:856: The name tf.summary.FileWriter is deprecated. Please use tf.compat.v1.summary.FileWriter instead.\n",
      "\n",
      "Epoch 1/200\n",
      "1216/1216 [==============================] - 44s 36ms/step - loss: 0.9525 - acc: 0.6587 - val_loss: 0.6295 - val_acc: 0.7500\n",
      "WARNING:tensorflow:From c:\\users\\aditi\\appdata\\local\\continuum\\anaconda3\\lib\\site-packages\\keras\\callbacks.py:995: The name tf.Summary is deprecated. Please use tf.compat.v1.Summary instead.\n",
      "\n",
      "Epoch 2/200\n",
      "1216/1216 [==============================] - 44s 36ms/step - loss: 0.8552 - acc: 0.6752 - val_loss: 0.6432 - val_acc: 0.7148\n",
      "Epoch 3/200\n",
      "1216/1216 [==============================] - 45s 37ms/step - loss: 0.7995 - acc: 0.6891 - val_loss: 0.6094 - val_acc: 0.7383\n",
      "Epoch 4/200\n",
      "1216/1216 [==============================] - 47s 39ms/step - loss: 0.7377 - acc: 0.6994 - val_loss: 0.5484 - val_acc: 0.7500\n",
      "Epoch 5/200\n",
      "1216/1216 [==============================] - 47s 39ms/step - loss: 0.7253 - acc: 0.7021 - val_loss: 0.5948 - val_acc: 0.7500\n",
      "Epoch 6/200\n",
      "1216/1216 [==============================] - 48s 39ms/step - loss: 0.7162 - acc: 0.7052 - val_loss: 0.6067 - val_acc: 0.7539\n",
      "Epoch 7/200\n",
      "1216/1216 [==============================] - 49s 40ms/step - loss: 0.6829 - acc: 0.7144 - val_loss: 0.5542 - val_acc: 0.7461\n",
      "Epoch 8/200\n",
      "1216/1216 [==============================] - 48s 39ms/step - loss: 0.6539 - acc: 0.7231 - val_loss: 0.5309 - val_acc: 0.7617\n",
      "Epoch 9/200\n",
      "1216/1216 [==============================] - 48s 39ms/step - loss: 0.6626 - acc: 0.7272 - val_loss: 0.5123 - val_acc: 0.7773\n",
      "Epoch 10/200\n",
      "1216/1216 [==============================] - 48s 39ms/step - loss: 0.6423 - acc: 0.7307 - val_loss: 0.5076 - val_acc: 0.7812\n",
      "Epoch 11/200\n",
      "1216/1216 [==============================] - 47s 39ms/step - loss: 0.6320 - acc: 0.7313 - val_loss: 0.4863 - val_acc: 0.7539\n",
      "Epoch 12/200\n",
      "1216/1216 [==============================] - 50s 41ms/step - loss: 0.6097 - acc: 0.7399 - val_loss: 0.4801 - val_acc: 0.7578\n",
      "Epoch 13/200\n",
      "1216/1216 [==============================] - 47s 38ms/step - loss: 0.6111 - acc: 0.7301 - val_loss: 0.4883 - val_acc: 0.7617\n",
      "Epoch 14/200\n",
      "1216/1216 [==============================] - 47s 39ms/step - loss: 0.5798 - acc: 0.7477 - val_loss: 0.4721 - val_acc: 0.7773\n",
      "Epoch 15/200\n",
      "1216/1216 [==============================] - 47s 38ms/step - loss: 0.5544 - acc: 0.7510 - val_loss: 0.4944 - val_acc: 0.7422\n",
      "Epoch 16/200\n",
      "1216/1216 [==============================] - 47s 38ms/step - loss: 0.5504 - acc: 0.7531 - val_loss: 0.4876 - val_acc: 0.7539\n",
      "Epoch 17/200\n",
      "1216/1216 [==============================] - 46s 38ms/step - loss: 0.5355 - acc: 0.7568 - val_loss: 0.4894 - val_acc: 0.7773\n",
      "Epoch 18/200\n",
      "1216/1216 [==============================] - 47s 38ms/step - loss: 0.5326 - acc: 0.7593 - val_loss: 0.4665 - val_acc: 0.7695\n",
      "Epoch 19/200\n",
      "1216/1216 [==============================] - 46s 38ms/step - loss: 0.5200 - acc: 0.7662 - val_loss: 0.4796 - val_acc: 0.7852\n",
      "Epoch 20/200\n",
      "1216/1216 [==============================] - 46s 38ms/step - loss: 0.4950 - acc: 0.7827 - val_loss: 0.4738 - val_acc: 0.8086\n",
      "Epoch 21/200\n",
      "1216/1216 [==============================] - 47s 38ms/step - loss: 0.4968 - acc: 0.7792 - val_loss: 0.4804 - val_acc: 0.7930\n",
      "Epoch 22/200\n",
      "1216/1216 [==============================] - 47s 39ms/step - loss: 0.4861 - acc: 0.7819 - val_loss: 0.5114 - val_acc: 0.7930\n",
      "Epoch 23/200\n",
      "1216/1216 [==============================] - 46s 38ms/step - loss: 0.4842 - acc: 0.7837 - val_loss: 0.4742 - val_acc: 0.8047\n",
      "Epoch 24/200\n",
      "1216/1216 [==============================] - 47s 39ms/step - loss: 0.4694 - acc: 0.7905 - val_loss: 0.4571 - val_acc: 0.7891\n",
      "Epoch 25/200\n",
      "1216/1216 [==============================] - 47s 38ms/step - loss: 0.4577 - acc: 0.7934 - val_loss: 0.4417 - val_acc: 0.8086\n",
      "Epoch 26/200\n",
      "1216/1216 [==============================] - 47s 39ms/step - loss: 0.4472 - acc: 0.7981 - val_loss: 0.4356 - val_acc: 0.7969\n",
      "Epoch 27/200\n",
      "1216/1216 [==============================] - 46s 38ms/step - loss: 0.4650 - acc: 0.7913 - val_loss: 0.4383 - val_acc: 0.7852\n",
      "Epoch 28/200\n",
      "1216/1216 [==============================] - 45s 37ms/step - loss: 0.4455 - acc: 0.8035 - val_loss: 0.4435 - val_acc: 0.7891\n",
      "Epoch 29/200\n",
      "1216/1216 [==============================] - 45s 37ms/step - loss: 0.4313 - acc: 0.8106 - val_loss: 0.4419 - val_acc: 0.7969\n",
      "Epoch 30/200\n",
      "1216/1216 [==============================] - 45s 37ms/step - loss: 0.4069 - acc: 0.8222 - val_loss: 0.3893 - val_acc: 0.8125\n",
      "Epoch 31/200\n",
      "1216/1216 [==============================] - 45s 37ms/step - loss: 0.4094 - acc: 0.8209 - val_loss: 0.4105 - val_acc: 0.8047\n",
      "Epoch 32/200\n",
      "1216/1216 [==============================] - 46s 37ms/step - loss: 0.4259 - acc: 0.8129 - val_loss: 0.3870 - val_acc: 0.8125\n",
      "Epoch 33/200\n",
      "1216/1216 [==============================] - 45s 37ms/step - loss: 0.3873 - acc: 0.8306 - val_loss: 0.3848 - val_acc: 0.8164\n",
      "Epoch 34/200\n",
      "1216/1216 [==============================] - 45s 37ms/step - loss: 0.3886 - acc: 0.8215 - val_loss: 0.3747 - val_acc: 0.8281\n",
      "Epoch 35/200\n",
      "1216/1216 [==============================] - 45s 37ms/step - loss: 0.3685 - acc: 0.8357 - val_loss: 0.3681 - val_acc: 0.8516\n",
      "Epoch 36/200\n",
      "1216/1216 [==============================] - 45s 37ms/step - loss: 0.3660 - acc: 0.8427 - val_loss: 0.3826 - val_acc: 0.8242\n",
      "Epoch 37/200\n",
      "1216/1216 [==============================] - 45s 37ms/step - loss: 0.3536 - acc: 0.8466 - val_loss: 0.3598 - val_acc: 0.8555\n",
      "Epoch 38/200\n",
      "1216/1216 [==============================] - 45s 37ms/step - loss: 0.3642 - acc: 0.8448 - val_loss: 0.3273 - val_acc: 0.8516\n",
      "Epoch 39/200\n",
      "1216/1216 [==============================] - 46s 38ms/step - loss: 0.3499 - acc: 0.8514 - val_loss: 0.3519 - val_acc: 0.8477\n",
      "Epoch 40/200\n",
      "1216/1216 [==============================] - 47s 38ms/step - loss: 0.3537 - acc: 0.8479 - val_loss: 0.3931 - val_acc: 0.8359\n",
      "Epoch 41/200\n",
      "1216/1216 [==============================] - 45s 37ms/step - loss: 0.3283 - acc: 0.8546 - val_loss: 0.3792 - val_acc: 0.8516\n",
      "Epoch 42/200\n",
      "1216/1216 [==============================] - 47s 39ms/step - loss: 0.3125 - acc: 0.8651 - val_loss: 0.3188 - val_acc: 0.8594\n",
      "Epoch 43/200\n",
      "1216/1216 [==============================] - 45s 37ms/step - loss: 0.3204 - acc: 0.8596 - val_loss: 0.2890 - val_acc: 0.8789\n",
      "Epoch 44/200\n",
      "1216/1216 [==============================] - 46s 37ms/step - loss: 0.3164 - acc: 0.8676 - val_loss: 0.3008 - val_acc: 0.8750\n",
      "Epoch 45/200\n",
      "1216/1216 [==============================] - 46s 38ms/step - loss: 0.3161 - acc: 0.8620 - val_loss: 0.2677 - val_acc: 0.8750\n",
      "Epoch 46/200\n",
      "1216/1216 [==============================] - 46s 38ms/step - loss: 0.2991 - acc: 0.8699 - val_loss: 0.3033 - val_acc: 0.8750\n",
      "Epoch 47/200\n",
      "1216/1216 [==============================] - 46s 38ms/step - loss: 0.2930 - acc: 0.8760 - val_loss: 0.2987 - val_acc: 0.8828\n",
      "Epoch 48/200\n",
      "1216/1216 [==============================] - 46s 37ms/step - loss: 0.2827 - acc: 0.8808 - val_loss: 0.2713 - val_acc: 0.8945\n",
      "Epoch 49/200\n",
      "1216/1216 [==============================] - 46s 37ms/step - loss: 0.2928 - acc: 0.8758 - val_loss: 0.2613 - val_acc: 0.8945\n",
      "Epoch 50/200\n",
      "1216/1216 [==============================] - 46s 38ms/step - loss: 0.2751 - acc: 0.8869 - val_loss: 0.2740 - val_acc: 0.8789\n",
      "Epoch 51/200\n",
      "1216/1216 [==============================] - 46s 38ms/step - loss: 0.2767 - acc: 0.8789 - val_loss: 0.2589 - val_acc: 0.8984\n",
      "Epoch 52/200\n",
      "1216/1216 [==============================] - 45s 37ms/step - loss: 0.2522 - acc: 0.8939 - val_loss: 0.2359 - val_acc: 0.9062\n",
      "Epoch 53/200\n",
      "1216/1216 [==============================] - 45s 37ms/step - loss: 0.2603 - acc: 0.8917 - val_loss: 0.2396 - val_acc: 0.9023\n",
      "Epoch 54/200\n",
      "1216/1216 [==============================] - 46s 38ms/step - loss: 0.2498 - acc: 0.8914 - val_loss: 0.2478 - val_acc: 0.8828\n",
      "Epoch 55/200\n",
      "1216/1216 [==============================] - 46s 38ms/step - loss: 0.2525 - acc: 0.8886 - val_loss: 0.2590 - val_acc: 0.8906\n",
      "Epoch 56/200\n",
      "1216/1216 [==============================] - 45s 37ms/step - loss: 0.2436 - acc: 0.8929 - val_loss: 0.2412 - val_acc: 0.9062\n",
      "Epoch 57/200\n",
      "1216/1216 [==============================] - 56s 46ms/step - loss: 0.2428 - acc: 0.8958 - val_loss: 0.2439 - val_acc: 0.8906\n",
      "Epoch 58/200\n",
      "1216/1216 [==============================] - 49s 41ms/step - loss: 0.2243 - acc: 0.9069 - val_loss: 0.2369 - val_acc: 0.9102\n",
      "Epoch 59/200\n",
      "1216/1216 [==============================] - 47s 39ms/step - loss: 0.2148 - acc: 0.9100 - val_loss: 0.2200 - val_acc: 0.9180\n",
      "Epoch 60/200\n",
      "1216/1216 [==============================] - 47s 38ms/step - loss: 0.2278 - acc: 0.9056 - val_loss: 0.2319 - val_acc: 0.8945\n",
      "Epoch 61/200\n",
      "1216/1216 [==============================] - 47s 39ms/step - loss: 0.2227 - acc: 0.9095 - val_loss: 0.2395 - val_acc: 0.9062\n",
      "Epoch 62/200\n",
      "1216/1216 [==============================] - 47s 39ms/step - loss: 0.2086 - acc: 0.9165 - val_loss: 0.2307 - val_acc: 0.9141\n",
      "Epoch 63/200\n",
      "1216/1216 [==============================] - 47s 38ms/step - loss: 0.2108 - acc: 0.9106 - val_loss: 0.2180 - val_acc: 0.9102\n",
      "Epoch 64/200\n",
      "1216/1216 [==============================] - 46s 38ms/step - loss: 0.2158 - acc: 0.9108 - val_loss: 0.1992 - val_acc: 0.9219\n",
      "Epoch 65/200\n",
      "1216/1216 [==============================] - 47s 39ms/step - loss: 0.2027 - acc: 0.9155 - val_loss: 0.2158 - val_acc: 0.9102\n",
      "Epoch 66/200\n",
      "1216/1216 [==============================] - 47s 38ms/step - loss: 0.1900 - acc: 0.9198 - val_loss: 0.1977 - val_acc: 0.9297\n",
      "Epoch 67/200\n",
      "1216/1216 [==============================] - 48s 39ms/step - loss: 0.1904 - acc: 0.9239 - val_loss: 0.1991 - val_acc: 0.9062\n",
      "Epoch 68/200\n",
      "1216/1216 [==============================] - 48s 40ms/step - loss: 0.1910 - acc: 0.9192 - val_loss: 0.1828 - val_acc: 0.9258\n",
      "Epoch 69/200\n",
      "1216/1216 [==============================] - 46s 38ms/step - loss: 0.1867 - acc: 0.9219 - val_loss: 0.1846 - val_acc: 0.9375\n",
      "Epoch 70/200\n",
      "1216/1216 [==============================] - 48s 40ms/step - loss: 0.1730 - acc: 0.9274 - val_loss: 0.1969 - val_acc: 0.9219\n",
      "Epoch 71/200\n",
      "1216/1216 [==============================] - 47s 39ms/step - loss: 0.1821 - acc: 0.9258 - val_loss: 0.2162 - val_acc: 0.9023\n",
      "Epoch 72/200\n",
      "1216/1216 [==============================] - 48s 39ms/step - loss: 0.1695 - acc: 0.9328 - val_loss: 0.1854 - val_acc: 0.9141\n",
      "Epoch 73/200\n",
      "1216/1216 [==============================] - 50s 41ms/step - loss: 0.1747 - acc: 0.9305 - val_loss: 0.1830 - val_acc: 0.9180\n",
      "Epoch 74/200\n",
      "1216/1216 [==============================] - 50s 41ms/step - loss: 0.1645 - acc: 0.9315 - val_loss: 0.1918 - val_acc: 0.9258\n",
      "Epoch 75/200\n",
      "1216/1216 [==============================] - 49s 40ms/step - loss: 0.1725 - acc: 0.9311 - val_loss: 0.1894 - val_acc: 0.9141\n",
      "Epoch 76/200\n",
      "1216/1216 [==============================] - 50s 41ms/step - loss: 0.1619 - acc: 0.9319 - val_loss: 0.1886 - val_acc: 0.9219\n",
      "Epoch 77/200\n",
      "1216/1216 [==============================] - 48s 40ms/step - loss: 0.1614 - acc: 0.9322 - val_loss: 0.1864 - val_acc: 0.9180\n"
     ]
    }
   ],
   "source": [
    "history = model.fit(X_train, Y_train,\n",
    "                    batch_size=batch_size,\n",
    "                    epochs=200,\n",
    "                    validation_split=0.05,\n",
    "                    shuffle='batch',\n",
    "                    callbacks=callbacks,\n",
    "                    verbose=1)"
   ]
  },
  {
   "cell_type": "markdown",
   "metadata": {},
   "source": [
    "## Tuning the hyperparameters\n",
    "**So, I tried a lot of different variations of the parameters below.** <br>\n",
    "1. The initializer, he_normal worked the best. He_uniform also works pretty decently<br>\n",
    "I tried changing the number of filters in the first layer to 16 and 8, but that seemed to be counter productive and reduced the final accuracy by a lot, and introduced a lot of variance surprisingly. I thought the jump from 400x5 to 400x32 is too much, but turns out it's just right.\n",
    "\n",
    "2. Tuning the number of layers, well, yikes it takes way too long to get the most optimized. <br> \n",
    "I started with 4 ResNet Units with different values of pooling and filters, these are optimum. Feel free to change the number of filters (32/64/128/256 to higher or lower) and test different combinations out. I plan on crating a table and seeing how much the accuracy improves or worsens and optimizing it. But my dear laptop is too slow for my impatience, so I'll get to that later (or run it on collab I guess)\n",
    "\n",
    "3. I didn't really change the activation functions much, relu (with classifier as sigmoid) have proven in MANY, MANY projects to be the best choice.\n",
    "\n",
    "4. Lastly, I tried tuning alpha. I wanted to reduce the learning rate when it seemed to be getting close to the global optimum. Hence the reduce LR on plateau. I tried a few different starting values, but 0.001 just seems to work really. Additionally, i tried an alpha decay, but they either decayed too fast or too slow. I'll see if I can include an exponential decay into the plateud LR and see if it helps. The sudden drop (halving of LR on plateau of val_loss) is counter-intuitive, but seems to work for many people so it can stay for now.\n",
    "\n",
    "____________"
   ]
  },
  {
   "cell_type": "markdown",
   "metadata": {},
   "source": [
    "## Results!"
   ]
  },
  {
   "cell_type": "code",
   "execution_count": 14,
   "metadata": {},
   "outputs": [
    {
     "data": {
      "text/plain": [
       "dict_keys(['val_loss', 'val_acc', 'loss', 'acc', 'lr'])"
      ]
     },
     "execution_count": 14,
     "metadata": {},
     "output_type": "execute_result"
    }
   ],
   "source": [
    "history.history.keys()"
   ]
  },
  {
   "cell_type": "code",
   "execution_count": 17,
   "metadata": {},
   "outputs": [
    {
     "data": {
      "image/png": "[encoded data removed]",
      "text/plain": [
       "<Figure size 432x288 with 1 Axes>"
      ]
     },
     "metadata": {
      "needs_background": "light"
     },
     "output_type": "display_data"
    }
   ],
   "source": [
    "plt.plot(history.history['acc'])\n",
    "plt.plot(history.history['val_acc'])\n",
    "plt.title('Model accuracy')\n",
    "plt.ylabel('accuracy')\n",
    "plt.xlabel('epoch')\n",
    "plt.legend(['train', 'test'], loc='upper left')\n",
    "plt.show()"
   ]
  },
  {
   "cell_type": "code",
   "execution_count": 18,
   "metadata": {},
   "outputs": [
    {
     "data": {
      "image/png": "[encoded data removed]",
      "text/plain": [
       "<Figure size 432x288 with 1 Axes>"
      ]
     },
     "metadata": {
      "needs_background": "light"
     },
     "output_type": "display_data"
    }
   ],
   "source": [
    "plt.plot(history.history['loss'])\n",
    "plt.plot(history.history['val_loss'])\n",
    "plt.title('Model loss')\n",
    "plt.ylabel('loss')\n",
    "plt.xlabel('epoch')\n",
    "plt.legend(['train', 'test'], loc='upper right')\n",
    "plt.show()"
   ]
  },
  {
   "cell_type": "code",
   "execution_count": null,
   "metadata": {},
   "outputs": [],
   "source": [
    "model.save(\"./final_model.hdf5\")"
   ]
  },
  {
   "cell_type": "code",
   "execution_count": 7,
   "metadata": {},
   "outputs": [],
   "source": [
    "#Use this to load previous saved model\n",
    "model = load_model(\"./final_model.hdf5\")"
   ]
  },
  {
   "cell_type": "markdown",
   "metadata": {},
   "source": [
    "____\n",
    "### Accuracy and related Metrics\n",
    "First we have to use the model to predict results for the test data"
   ]
  },
  {
   "cell_type": "code",
   "execution_count": 15,
   "metadata": {},
   "outputs": [
    {
     "name": "stdout",
     "output_type": "stream",
     "text": [
      "320/320 [==============================] - 1s 4ms/step\n"
     ]
    }
   ],
   "source": [
    "y_score = model.predict(X_test, batch_size=64, verbose=1)"
   ]
  },
  {
   "cell_type": "code",
   "execution_count": 16,
   "metadata": {},
   "outputs": [],
   "source": [
    "#I made this function before I realised sklearn and numpy have a relu function, sue me\n",
    "def relu(a):\n",
    "    b = []\n",
    "    for i in a:\n",
    "        ab = i==max(i)\n",
    "        b.append(ab*1.0)\n",
    "    return b"
   ]
  },
  {
   "cell_type": "code",
   "execution_count": 17,
   "metadata": {},
   "outputs": [],
   "source": [
    "y_predict = relu(y_score)"
   ]
  },
  {
   "cell_type": "markdown",
   "metadata": {},
   "source": [
    "To get an absolute accuracy, I used the following lines of code. AUC/ROC curves ended up giving me higher than the actual correct values. I may have screwed up a bit there, but this works for now.<br>\n",
    "I'll update with some better metrics later\n"
   ]
  },
  {
   "cell_type": "code",
   "execution_count": 18,
   "metadata": {},
   "outputs": [],
   "source": [
    "summ = 0\n",
    "for i,j in zip(y_predict, Y_test):\n",
    "    a = np.where(i==1.0)[0][0]\n",
    "    b = np.where(j==1.0)[0][0]\n",
    "#     print(a, b)\n",
    "    summ += (a==b)*1"
   ]
  },
  {
   "cell_type": "code",
   "execution_count": 19,
   "metadata": {},
   "outputs": [
    {
     "data": {
      "text/plain": [
       "0.95625"
      ]
     },
     "execution_count": 19,
     "metadata": {},
     "output_type": "execute_result"
    }
   ],
   "source": [
    "summ/320"
   ]
  },
  {
   "cell_type": "markdown",
   "metadata": {},
   "source": [
    "I still have a few ideas to make the accuracy even better, both in terms of modifing the architecture and augmenting the dataset.\n",
    "That's what I'll be working on for the next few iterations of this "
   ]
  },
  {
   "cell_type": "markdown",
   "metadata": {},
   "source": [
    "_______________"
   ]
  },
  {
   "cell_type": "code",
   "execution_count": null,
   "metadata": {},
   "outputs": [],
   "source": []
  }
 ],
 "metadata": {
  "kernelspec": {
   "display_name": "Python 3",
   "language": "python",
   "name": "python3"
  },
  "language_info": {
   "codemirror_mode": {
    "name": "ipython",
    "version": 3
   },
   "file_extension": ".py",
   "mimetype": "text/x-python",
   "name": "python",
   "nbconvert_exporter": "python",
   "pygments_lexer": "ipython3",
   "version": "3.7.3"
  }
 },
 "nbformat": 4,
 "nbformat_minor": 4
}
